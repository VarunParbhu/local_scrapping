{
 "cells": [
  {
   "cell_type": "code",
   "execution_count": 10,
   "metadata": {},
   "outputs": [],
   "source": [
    "import os \n",
    "import numpy as np \n",
    "from PIL import ImageEnhance\n",
    "from PIL import Image\n",
    "import random as rnd"
   ]
  },
  {
   "cell_type": "code",
   "execution_count": 11,
   "metadata": {},
   "outputs": [
    {
     "data": {
      "text/plain": [
       "129"
      ]
     },
     "execution_count": 11,
     "metadata": {},
     "output_type": "execute_result"
    }
   ],
   "source": [
    "len(os.listdir('mcb_logo/train'))"
   ]
  },
  {
   "cell_type": "code",
   "execution_count": 8,
   "metadata": {},
   "outputs": [
    {
     "data": {
      "text/plain": [
       "129"
      ]
     },
     "execution_count": 8,
     "metadata": {},
     "output_type": "execute_result"
    }
   ],
   "source": [
    "len([name for name in os.listdir('mcb_logo/train')])"
   ]
  },
  {
   "cell_type": "code",
   "execution_count": 6,
   "metadata": {},
   "outputs": [],
   "source": [
    "# Rename the image files \n",
    "# Get the images name in the CWD as a list\n",
    "images_list = os.listdir('.')\n",
    "# Rename the files name \n",
    "for i in range(len(images_list)): \n",
    "    os.rename(images_list[i], 'MCB_Images_{}.jpg'.format(i))"
   ]
  },
  {
   "cell_type": "code",
   "execution_count": 51,
   "metadata": {},
   "outputs": [
    {
     "name": "stdout",
     "output_type": "stream",
     "text": [
      "angle:9\n"
     ]
    }
   ],
   "source": [
    "# Test to rotate some images \n",
    "# Reading the original image \n",
    "original_image = Image.open('MCB_Images_4.jpg')\n",
    "#original_image.show()\n",
    "\n",
    "# Generate random standard normal number\n",
    "# mean, std = 0, 1 \n",
    "# r = np.random.normal(mean, std, 1)\n",
    "\n",
    "# Generate Random numbers \n",
    "r = rnd.random()*rnd.choice([-1,1])\n",
    "\n",
    "# Rotate the image by 45 degrees approximately  \n",
    "R = rnd.randint(-35,35)\n",
    "print(f'angle:{R}')\n",
    "rotated = original_image.rotate(R)\n",
    "rotated.show()"
   ]
  },
  {
   "cell_type": "code",
   "execution_count": 53,
   "metadata": {},
   "outputs": [],
   "source": [
    "# Function to Rotate images \n",
    "def imagerotator(image, rotation_degree=35):\n",
    "    original_image = Image.open(image)\n",
    "    # Rotate between the specified range of angle \n",
    "    r = rnd.randint(-rotation_degree, rotation_degree)\n",
    "    # Rotate the image and Output it \n",
    "    rotated_img = original_image.rotate(r)\n",
    "    return rotated_img.save(\"RotatedImages/{}\".format(image))\n"
   ]
  },
  {
   "cell_type": "code",
   "execution_count": 129,
   "metadata": {},
   "outputs": [],
   "source": [
    "img = Image.open(\"MCB_Images_15.jpg\")\n",
    "img = img.convert(\"RGB\")\n",
    " \n",
    "d = img.getdata()\n",
    " \n",
    "new_image = []\n",
    "rgb = (rnd.randint(0,256), rnd.randint(0,256), rnd.randint(0,256))\n",
    "for item in d:\n",
    "   \n",
    "    if item[0] in list(range(200, 256)):\n",
    "        new_image.append(rgb)\n",
    "    else:\n",
    "        new_image.append(item)\n",
    "         \n",
    "# update image data\n",
    "img.putdata(new_image)\n",
    " \n",
    "# save new image\n",
    "img.show()"
   ]
  },
  {
   "cell_type": "code",
   "execution_count": 132,
   "metadata": {},
   "outputs": [],
   "source": [
    "# Color change Function \n",
    "def imagecolorchange(image): \n",
    "    img = Image.open(image)\n",
    "    img = img.convert(\"RGB\")\n",
    "    d = img.getdata()\n",
    "    \n",
    "    # Change color randomly \n",
    "    new_image = []\n",
    "    rgb = (rnd.randint(0,256), rnd.randint(0,256), rnd.randint(0,256))\n",
    "    for item in d:\n",
    "        if item[0] in list(range(200, 256)):\n",
    "            new_image.append(rgb)\n",
    "        else:\n",
    "            new_image.append(item)\n",
    "            \n",
    "    # update image data\n",
    "    img.putdata(new_image)\n",
    "    \n",
    "    # save new image\n",
    "    try: \n",
    "        os.mkdir(\"ColorChangeImages\")\n",
    "    except FileExistsError:\n",
    "        pass\n",
    "    return img.save('ColorChangeImages/{}'.format(image))"
   ]
  },
  {
   "cell_type": "code",
   "execution_count": 133,
   "metadata": {},
   "outputs": [],
   "source": [
    "# Applying the function to all the images in existing folder \n",
    "for files in os.listdir('.'): \n",
    "    if files.endswith('.jpg') or files.endswith('.png'):\n",
    "        imagecolorchange(files)"
   ]
  },
  {
   "cell_type": "code",
   "execution_count": 99,
   "metadata": {},
   "outputs": [],
   "source": [
    "# Play with Brightness of Image \n",
    "# Testing with one of the images \n",
    "\n",
    "im = Image.open(\"MCB_Images_3.jpg\")\n",
    "\n",
    "# Image Brightness Enhancer \n",
    "enhancer = ImageEnhance.Brightness(im)\n",
    "\n",
    "# Brightness Factor \n",
    "# Factor = 1 --> Original Image brightness \n",
    "\n",
    "# Factor = 0.5 ---> Darkens Image \n",
    "factor = 0.25\n",
    "im_output = enhancer.enhance(factor)\n",
    "im_output.save(\"MCB_Test_Image_Dark_Brightness.jpg\")\n",
    "\n",
    "# Factor = 1.5 ---> Brightens Image \n",
    "factor = 1.5\n",
    "im_output = enhancer.enhance(factor)\n",
    "im_output.save(\"MCB_Test_Image_High_Brightness.jpg\")\n"
   ]
  },
  {
   "cell_type": "code",
   "execution_count": 111,
   "metadata": {},
   "outputs": [],
   "source": [
    "# Brightness Function \n",
    "def imagebrightness(image, brightness = rnd.choice(np.arange(0.1,0.5,0.05))):\n",
    "    im = Image.open(image)\n",
    "    enhancer = ImageEnhance.Brightness(im)\n",
    "    im_output = enhancer.enhance(brightness)\n",
    "    try: \n",
    "        os.mkdir(\"BrightnessImages\")\n",
    "    except FileExistsError:\n",
    "        pass\n",
    "    return im_output.save('BrightnessImages/{}'.format(image))"
   ]
  },
  {
   "cell_type": "code",
   "execution_count": 114,
   "metadata": {},
   "outputs": [],
   "source": [
    "# Applying the function to all the images in existing folder \n",
    "for files in os.listdir('.'): \n",
    "    if files.endswith('.jpg') or files.endswith('.png'):\n",
    "        imagebrightness(files)"
   ]
  },
  {
   "cell_type": "code",
   "execution_count": null,
   "metadata": {},
   "outputs": [],
   "source": []
  }
 ],
 "metadata": {
  "kernelspec": {
   "display_name": "Python 3",
   "language": "python",
   "name": "python3"
  },
  "language_info": {
   "codemirror_mode": {
    "name": "ipython",
    "version": 3
   },
   "file_extension": ".py",
   "mimetype": "text/x-python",
   "name": "python",
   "nbconvert_exporter": "python",
   "pygments_lexer": "ipython3",
   "version": "3.9.6 (default, Oct 18 2022, 12:41:40) \n[Clang 14.0.0 (clang-1400.0.29.202)]"
  },
  "orig_nbformat": 4,
  "vscode": {
   "interpreter": {
    "hash": "31f2aee4e71d21fbe5cf8b01ff0e069b9275f58929596ceb00d14d90e3e16cd6"
   }
  }
 },
 "nbformat": 4,
 "nbformat_minor": 2
}
