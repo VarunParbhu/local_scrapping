{
 "cells": [
  {
   "attachments": {},
   "cell_type": "markdown",
   "metadata": {},
   "source": [
    "Unique identifier → post_id\n",
    "Iterate through image list and download the images/load the images directly using PIL\n",
    "\n",
    "\n",
    "- check whether the last post is still the same before appending a new one\n",
    "- from each post_URL; check the images list and process them\n",
    "- See the associated texts as well\n",
    "\n",
    "\n",
    "- Review pages based on location (or maybe African Countries) - Review Documentation\n",
    "\n",
    "- ION News - Review\n",
    "\n",
    "- Local Media Website\n",
    "\n",
    "https://pypi.org/project/facebook-scraper/\n",
    "\n",
    "https://towardsdatascience.com/stop-using-pip-freeze-for-your-python-projects-9c37181730f9\n",
    "\n",
    "https://colab.research.google.com/drive/1QZywh4xiiR8BX14dThVVRaJ3c7hgJcyU#scrollTo=Kn9S2H8HODQD\n",
    "\n",
    "https://www.alamy.com/stock-photo/mauritius-commercial-bank.html?sortBy=relevant\n",
    "\n",
    "\n",
    "https://developers.google.com/codelabs/tflite-object-detection-android#7"
   ]
  },
  {
   "cell_type": "code",
   "execution_count": 1,
   "metadata": {},
   "outputs": [
    {
     "name": "stderr",
     "output_type": "stream",
     "text": [
      "2023-01-24 17:40:16.029346: I tensorflow/core/platform/cpu_feature_guard.cc:193] This TensorFlow binary is optimized with oneAPI Deep Neural Network Library (oneDNN) to use the following CPU instructions in performance-critical operations:  SSE4.1 SSE4.2\n",
      "To enable them in other operations, rebuild TensorFlow with the appropriate compiler flags.\n"
     ]
    }
   ],
   "source": [
    "import tensorflow as tf"
   ]
  },
  {
   "cell_type": "code",
   "execution_count": 1,
   "metadata": {},
   "outputs": [],
   "source": [
    "import os\n",
    "import requests\n",
    "import pandas as pd\n",
    "from PIL import Image\n",
    "import facebook_scraper as fc\n",
    "import matplotlib.pyplot as plt\n",
    "import matplotlib.image as mping\n",
    "#from IPython.display import Image\n",
    "from IPython.core.display import HTML\n",
    "from facebook_scraper import get_posts\n",
    "from time import sleep"
   ]
  },
  {
   "cell_type": "code",
   "execution_count": 2,
   "metadata": {},
   "outputs": [
    {
     "name": "stdout",
     "output_type": "stream",
     "text": [
      "FACEBOOK\n"
     ]
    },
    {
     "name": "stderr",
     "output_type": "stream",
     "text": [
      "/opt/anaconda3/envs/torch_tf_2/lib/python3.9/site-packages/facebook_scraper/facebook_scraper.py:855: UserWarning: Facebook language detected as fr_FR - for best results, set to en_US\n",
      "  warnings.warn(\n"
     ]
    },
    {
     "name": "stdout",
     "output_type": "stream",
     "text": [
      "10160787765594540\n",
      "https://scontent.fmru7-1.fna.fbcdn.net/v/t39.30808-6/327007977_474776188204940_7658161803954751633_n.jpg?stp=cp0_dst-jpg_e15_fr_q65&_nc_cat=100&ccb=1-7&_nc_sid=2d5d41&_nc_ohc=2tcqYycca90AX82BcJv&_nc_ht=scontent.fmru7-1.fna&oh=00_AfB9x9ZrpHXugOkJOC5_4-RYic4oJO0ptATHWWDbUOyKbQ&oe=63D5AFA5\n",
      "https://scontent.fmru7-1.fna.fbcdn.net/v/t39.30808-6/327007977_474776188204940_7658161803954751633_n.jpg?stp=cp0_dst-jpg_e15_q65_s320x320&_nc_cat=100&ccb=1-7&_nc_sid=2d5d41&_nc_ohc=2tcqYycca90AX82BcJv&_nc_ht=scontent.fmru7-1.fna&oh=00_AfBpu5rpiApkPySFQ0p25JdFeHsN0LNwpqpo78CusAQSiA&oe=63D5AFA5\n",
      "10160787759664540\n",
      "None\n",
      "https://scontent.fmru7-1.fna.fbcdn.net/v/t39.2147-6/324333063_705573717930589_869164842441940111_n.jpg?stp=c0.5x0.5f_dst-jpg_flffffff_p476x249_q75&_nc_cat=100&ccb=1-7&_nc_sid=c3e712&_nc_ohc=xbgXA_bEgdsAX879xva&_nc_ht=scontent.fmru7-1.fna&oh=00_AfCOoLiWjBOWqBIQoFeo0GkQXFQdX7BKzT_Cu4XnUOOXUw&oe=63D557F5\n",
      "10160787728404540\n",
      "None\n",
      "https://scontent.fmru7-1.fna.fbcdn.net/v/t39.2147-6/327153573_888695355686037_2325096851441105025_n.jpg?stp=c0.5x0.5f_dst-jpg_flffffff_p476x249_q75&_nc_cat=107&ccb=1-7&_nc_sid=c3e712&_nc_ohc=b-oFGZ1oKP8AX-lBv7W&_nc_ht=scontent.fmru7-1.fna&oh=00_AfCI_RXXCfTDEY587AyhAEwZ2X3ZjYDgwr0_NV--oZuoPg&oe=63D646D7\n",
      "10160787708939540\n",
      "https://scontent.fmru7-1.fna.fbcdn.net/v/t39.30808-6/324245327_3057747547862320_7659409866531470873_n.jpg?stp=cp0_dst-jpg_e15_fr_q65&_nc_cat=100&ccb=1-7&_nc_sid=2d5d41&_nc_ohc=cKONjlQPUy4AX-V581-&_nc_ht=scontent.fmru7-1.fna&oh=00_AfBCmoaS0LEM4_Q4zbicbaYJm6ziAxzsnsI-xCEe-L7lvg&oe=63D4FF2D\n",
      "https://scontent.fmru7-1.fna.fbcdn.net/v/t39.30808-6/324245327_3057747547862320_7659409866531470873_n.jpg?stp=cp0_dst-jpg_e15_q65_s320x320&_nc_cat=100&ccb=1-7&_nc_sid=2d5d41&_nc_ohc=cKONjlQPUy4AX-V581-&_nc_ht=scontent.fmru7-1.fna&oh=00_AfCrYjmM1k-cEV_kDbjnMFyS6uRHaBXFcEE_FNu2fmCOqQ&oe=63D4FF2D\n",
      "10160787675404540\n",
      "None\n",
      "https://scontent.fmru7-1.fna.fbcdn.net/v/t39.2147-6/324337959_1509598232894580_7309120266147942765_n.jpg?stp=c0.5x0.5f_dst-jpg_flffffff_p476x249_q75&_nc_cat=1&ccb=1-7&_nc_sid=c3e712&_nc_ohc=9zHOzJ671zMAX8uxFQo&_nc_oc=AQmP0n3MpoF3DJXh_otfZTFyBcfomjrfj96-R1pOwQ2xmx1FXw0hsD1c6ZkBor7mT_Q&_nc_ht=scontent.fmru7-1.fna&oh=00_AfBhtHjE8qR0Ta12viXL9obRMtLkur2KWYMZIoFFAB3C-Q&oe=63D6E1EC\n",
      "10160787621494540\n",
      "None\n",
      "https://scontent.fmru7-1.fna.fbcdn.net/v/t39.2147-6/324105697_5775115695903248_6506599404584084695_n.jpg?stp=c0.5x0.5f_dst-jpg_flffffff_p476x249_q75&_nc_cat=110&ccb=1-7&_nc_sid=c3e712&_nc_ohc=BZSA9QF_WwcAX8BW0_j&_nc_ht=scontent.fmru7-1.fna&oh=00_AfBCHPbtU_WkZiLvWBLAj-Ubrr3Lm-x-4PruvtdoEdAWkQ&oe=63D62148\n",
      "10160787591304540\n",
      "https://scontent.fmru7-1.fna.fbcdn.net/v/t39.30808-6/327469225_403508638649174_2546071273172483675_n.jpg?stp=cp0_dst-jpg_e15_fr_q65&_nc_cat=1&ccb=1-7&_nc_sid=2d5d41&_nc_ohc=6GVMS7lhjwoAX85yEOT&_nc_ht=scontent.fmru7-1.fna&oh=00_AfB8mXJ7Sj3AqVkJ2yGhx9aYEuwkGeTmzL_MD3hOKkv2Ow&oe=63D6BCAB\n",
      "https://scontent.fmru7-1.fna.fbcdn.net/v/t39.30808-6/327469225_403508638649174_2546071273172483675_n.jpg?stp=cp0_dst-jpg_e15_q65_s320x320&_nc_cat=1&ccb=1-7&_nc_sid=2d5d41&_nc_ohc=6GVMS7lhjwoAX85yEOT&_nc_ht=scontent.fmru7-1.fna&oh=00_AfDt7n-P-GncmHZlhsBYrR7IJms2ll-euzdJWk0QI4WeOw&oe=63D6BCAB\n",
      "10160787541694540\n",
      "None\n",
      "https://scontent.fmru7-1.fna.fbcdn.net/v/t39.2147-6/327445126_1604391536667984_3534581965506939039_n.jpg?stp=c0.5x0.5f_dst-jpg_flffffff_p476x249_q75&_nc_cat=1&ccb=1-7&_nc_sid=c3e712&_nc_ohc=xAAyrbFPxmgAX9dn8sY&_nc_ht=scontent.fmru7-1.fna&oh=00_AfDfUED2bunsZhXWUDr2g8cF9A6yr1MLJjKvY89vkVrIRA&oe=63D54B46\n"
     ]
    }
   ],
   "source": [
    "#Get image URLs from Lexpress FB page\n",
    "page_id_exp = 100761789539\n",
    "page_id_def = 108299339233098\n",
    "\n",
    "i = 0\n",
    "image_url = []\n",
    "print('FACEBOOK')\n",
    "for post in get_posts(page_id_exp,page_limit=3):\n",
    "    print(post['post_id'])\n",
    "    print(post['image'])\n",
    "    print(post['image_lowquality'])\n",
    "    #print(post['images'])\n",
    "    #print(post['images_lowquality'])\n",
    "    \n",
    "    #print(i)\n",
    "    i +=1\n",
    "\n",
    "\n",
    "# print('DEFIMEDIA')\n",
    "# for post in get_posts(\"www.defimedia.info\",page_limit=2):\n",
    "#     #print(post['image'])\n",
    "#     print(post['post_id'])    \n",
    "#     print(post['image_lowquality'])\n",
    "#     #print(post['images'])\n",
    "#     #print(post['images_lowquality'])\n",
    "\n",
    "#     #print(i)\n",
    "#     i +=1"
   ]
  },
  {
   "attachments": {},
   "cell_type": "markdown",
   "metadata": {},
   "source": [
    "### Opening LabelImg\n",
    "cd opt/anaconda3/envs/torch_tf_2/lib/python3.9/site-packages/\n",
    "\n",
    "labelImg"
   ]
  },
  {
   "cell_type": "markdown",
   "metadata": {},
   "source": []
  }
 ],
 "metadata": {
  "kernelspec": {
   "display_name": "torch_tf_2",
   "language": "python",
   "name": "python3"
  },
  "language_info": {
   "codemirror_mode": {
    "name": "ipython",
    "version": 3
   },
   "file_extension": ".py",
   "mimetype": "text/x-python",
   "name": "python",
   "nbconvert_exporter": "python",
   "pygments_lexer": "ipython3",
   "version": "3.9.15 (main, Nov  4 2022, 11:11:31) \n[Clang 12.0.0 ]"
  },
  "orig_nbformat": 4,
  "vscode": {
   "interpreter": {
    "hash": "3525862eb7474a29db09ce01a834f42964e4c1bfc31ad17c337acfcc423c297f"
   }
  }
 },
 "nbformat": 4,
 "nbformat_minor": 2
}
