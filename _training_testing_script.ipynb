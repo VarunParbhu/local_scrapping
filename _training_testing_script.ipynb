{
 "cells": [
  {
   "cell_type": "code",
   "execution_count": 3,
   "metadata": {},
   "outputs": [
    {
     "ename": "",
     "evalue": "",
     "output_type": "error",
     "traceback": [
      "\u001b[1;31mThe Kernel crashed while executing code in the the current cell or a previous cell. Please review the code in the cell(s) to identify a possible cause of the failure. Click <a href='https://aka.ms/vscodeJupyterKernelCrash'>here</a> for more info. View Jupyter <a href='command:jupyter.viewOutput'>log</a> for further details."
     ]
    },
    {
     "ename": "",
     "evalue": "",
     "output_type": "error",
     "traceback": [
      "\u001b[1;31mCanceled future for execute_request message before replies were done"
     ]
    }
   ],
   "source": [
    "import numpy as np\n",
    "import os\n",
    "\n",
    "import tflite_model_maker\n",
    "\n",
    "# from tflite_model_maker.config import ExportFormat, QuantizationConfig\n",
    "# from tflite_model_maker import model_spec\n",
    "# from tflite_model_maker import object_detector\n",
    "\n",
    "# from tflite_support import metadata\n",
    "\n",
    "# import tensorflow as tf\n",
    "# assert tf.__version__.startswith('2')\n",
    "\n",
    "# tf.get_logger().setLevel('ERROR')\n",
    "# from absl import logging\n",
    "# logging.set_verbosity(logging.ERROR)"
   ]
  },
  {
   "cell_type": "code",
   "execution_count": null,
   "metadata": {},
   "outputs": [],
   "source": []
  }
 ],
 "metadata": {
  "kernelspec": {
   "display_name": "tf_lite",
   "language": "python",
   "name": "python3"
  },
  "language_info": {
   "codemirror_mode": {
    "name": "ipython",
    "version": 3
   },
   "file_extension": ".py",
   "mimetype": "text/x-python",
   "name": "python",
   "nbconvert_exporter": "python",
   "pygments_lexer": "ipython3",
   "version": "3.9.16 (main, Jan 11 2023, 10:02:19) \n[Clang 14.0.6 ]"
  },
  "orig_nbformat": 4,
  "vscode": {
   "interpreter": {
    "hash": "6d8a0deb49cde43b85ccc78bad3c9ce33a5e1d023d54e1afde21aa572773e5f2"
   }
  }
 },
 "nbformat": 4,
 "nbformat_minor": 2
}
